{
 "cells": [
  {
   "cell_type": "code",
   "execution_count": 3,
   "id": "97bf6485",
   "metadata": {},
   "outputs": [
    {
     "name": "stdout",
     "output_type": "stream",
     "text": [
      "['without_mask', 'with_mask']\n",
      "[0, 1]\n",
      "{'without_mask': 0, 'with_mask': 1}\n"
     ]
    }
   ],
   "source": [
    "import cv2 , os\n",
    "\n",
    "data_path = \"D:\\AI with Thak\\Face mask detection\\observations-master\\experiements\\data\"\n",
    "\n",
    "categories = os.listdir(data_path)\n",
    "\n",
    "lables = [i for i in range(len(categories))]\n",
    "\n",
    "label_dict = dict(zip(categories,lables))\n",
    "\n",
    "\n",
    "print(categories)\n",
    "print(lables)\n",
    "print(label_dict)\n"
   ]
  },
  {
   "cell_type": "code",
   "execution_count": 10,
   "id": "895c3830",
   "metadata": {},
   "outputs": [],
   "source": [
    "img_size = 100\n",
    "\n",
    "data =[]\n",
    "target = []\n",
    "\n",
    "\n",
    "for category in categories:\n",
    "    folder_path = os.path.join(data_path,category)\n",
    "    img_names= os.listdir(folder_path)\n",
    "    \n",
    "#     print(img_names)\n",
    "    for img_name in img_names:\n",
    "        img_path = os.path.join(folder_path,img_name)\n",
    "        img = cv2.imread(img_path)\n",
    "        \n",
    "        try:\n",
    "            #Coverting the image into gray scale\n",
    "            gray = cv2.cvtColor(img,cv2.COLOR_BGR2GRAY)\n",
    "            \n",
    "            #resizing the gray scale into 100x100, since we need a fixed common size for all the images in the dataset\n",
    "            resized = cv2.resize(gray,(img_size,img_size))\n",
    "        \n",
    "            data.append(resized)\n",
    "            target.append(label_dict[category])\n",
    "            \n",
    "#         print(img)\n",
    "\n",
    "        except Exception as e:\n",
    "            print('Exception', e)"
   ]
  },
  {
   "cell_type": "code",
   "execution_count": 18,
   "id": "a8f4e96f",
   "metadata": {},
   "outputs": [],
   "source": [
    "# print(data)\n",
    "import numpy as np\n",
    "\n",
    "data = np.array(data)/225.0\n",
    "# print(data)\n",
    "\n",
    "data = np.reshape(data,(data.shape[0], img_size,img_size,1))\n",
    "target = np.array(target)\n",
    "\n",
    "from tensorflow.keras.utils import to_categorical\n",
    "\n",
    "new_target = to_categorical(target)"
   ]
  },
  {
   "cell_type": "code",
   "execution_count": 19,
   "id": "46e2d1b6",
   "metadata": {},
   "outputs": [],
   "source": [
    "np.save('data',data)\n",
    "np.save('target',new_target)"
   ]
  },
  {
   "cell_type": "code",
   "execution_count": null,
   "id": "56ab4759",
   "metadata": {},
   "outputs": [],
   "source": []
  }
 ],
 "metadata": {
  "kernelspec": {
   "display_name": "Python 3 (ipykernel)",
   "language": "python",
   "name": "python3"
  },
  "language_info": {
   "codemirror_mode": {
    "name": "ipython",
    "version": 3
   },
   "file_extension": ".py",
   "mimetype": "text/x-python",
   "name": "python",
   "nbconvert_exporter": "python",
   "pygments_lexer": "ipython3",
   "version": "3.11.5"
  }
 },
 "nbformat": 4,
 "nbformat_minor": 5
}
